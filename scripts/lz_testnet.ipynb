{
 "cells": [
  {
   "cell_type": "markdown",
   "id": "0",
   "metadata": {},
   "source": [
    "## Setup RPC & deployer"
   ]
  },
  {
   "cell_type": "code",
   "execution_count": null,
   "id": "1",
   "metadata": {},
   "outputs": [],
   "source": [
    "from dotenv import load_dotenv\n",
    "import os\n",
    "import boa\n",
    "from eth_account import Account\n",
    "from web3 import Web3\n",
    "import logging\n",
    "import subprocess\n",
    "import time\n",
    "\n",
    "load_dotenv()\n",
    "chain_handle = \"base-sepolia\"\n",
    "\n",
    "PRIVATE_KEY = os.environ.get(\"WEB3_TESTNET_PK\")\n",
    "RPCS = {\n",
    "    \"sepolia\": \"https://sepolia.drpc.org\",\n",
    "    \"base-sepolia\": \"https://sepolia.base.org\",\n",
    "    \"optimism-sepolia\": \"https://sepolia.optimism.io\",\n",
    "    \"arbitrum-sepolia\": \"https://sepolia-rollup.arbitrum.io/rpc\",\n",
    "}\n",
    "\n",
    "RPC_URL = RPCS[chain_handle]\n",
    "\n",
    "deployer = Account.from_key(PRIVATE_KEY)\n",
    "eth_env = boa.set_network_env(RPC_URL)\n",
    "# boa.set_env(eth_env)\n",
    "w3 = Web3(Web3.HTTPProvider(RPC_URL))\n",
    "\n",
    "# this automatically sets the eoa as the deployer\n",
    "boa.env.add_account(deployer)\n",
    "print(f\"Deploying with {deployer.address} on Chain id {boa.env.evm.patch.chain_id}\")\n",
    "print(f\"Chain balance is {w3.eth.get_balance(deployer.address)/1e18 :.3f} ETH\")"
   ]
  },
  {
   "cell_type": "markdown",
   "id": "2",
   "metadata": {},
   "source": [
    "## Setup LZ"
   ]
  },
  {
   "cell_type": "code",
   "execution_count": null,
   "id": "3",
   "metadata": {},
   "outputs": [],
   "source": [
    "from LZDeployments import LZDeployments\n",
    "import json\n",
    "\n",
    "lz = LZDeployments()\n",
    "chain_data = lz.get_chain_metadata(chain_handle)\n",
    "# print(json.dumps(chain_data, indent=2))\n",
    "LZ_ENDPOINT = chain_data[\"metadata\"][\"endpointV2\"]\n",
    "LZ_EID = chain_data[\"metadata\"][\"eid\"]\n",
    "SEND_LIB = chain_data[\"metadata\"].get(\"sendUln302\", \"unavailable\")\n",
    "RECEIVE_LIB = chain_data[\"metadata\"].get(\"receiveUln302\", \"unavailable\")\n",
    "READ_LIB = chain_data[\"metadata\"].get(\"readLib1002\", \"unavailable\")\n",
    "print(f\"Operating on: {chain_handle}\")\n",
    "print(f\"Chain eID: {LZ_EID}\\nEndpoint address: {LZ_ENDPOINT}\")\n",
    "dvns_all = chain_data[\"dvns\"]\n",
    "dvns_lzread = chain_data[\"dvns_lzread\"]\n",
    "print(f\"DVNs: {len(dvns_all)}, Read DVNs: {len(dvns_lzread)}\")\n",
    "print(f\"Send lib: {SEND_LIB}\\nReceive lib: {RECEIVE_LIB}\\nRead lib: {READ_LIB}\")"
   ]
  },
  {
   "cell_type": "markdown",
   "id": "4",
   "metadata": {},
   "source": [
    "# I. Deployment"
   ]
  },
  {
   "cell_type": "markdown",
   "id": "5",
   "metadata": {},
   "source": [
    "### 1. ExampleMessenger"
   ]
  },
  {
   "cell_type": "code",
   "execution_count": null,
   "id": "6",
   "metadata": {},
   "outputs": [],
   "source": [
    "# II. Then deploy the DepositLimitModule\n",
    "contract_deployer = boa.load_partial(\"../contracts/ExampleMessenger.vy\")\n",
    "\n",
    "contract = contract_deployer(\n",
    "    LZ_ENDPOINT,  # endpoint on sepolia base\n",
    "    500_000,  # default gas limit\n",
    ")\n",
    "\n",
    "print(f\"Example Messenger deployed at {contract.address}\")"
   ]
  },
  {
   "cell_type": "code",
   "execution_count": null,
   "id": "7",
   "metadata": {},
   "outputs": [],
   "source": [
    "# contract.set_lz_read_channel(4294967295)"
   ]
  },
  {
   "cell_type": "markdown",
   "id": "8",
   "metadata": {},
   "source": [
    "## II. Post-deployment interactions \n",
    "## (web3py to simulate real interactions)"
   ]
  },
  {
   "cell_type": "markdown",
   "id": "9",
   "metadata": {},
   "source": [
    "### 0. Prepare infra"
   ]
  },
  {
   "cell_type": "code",
   "execution_count": null,
   "id": "10",
   "metadata": {},
   "outputs": [],
   "source": [
    "def get_vyper_abi():\n",
    "    command = [\"vyper\", \"../contracts/ExampleMessenger.vy\", \"-f\", \"abi_python\"]\n",
    "    try:\n",
    "        result = subprocess.run(command, capture_output=True, text=True, check=True)\n",
    "        return result.stdout\n",
    "    except subprocess.CalledProcessError as e:\n",
    "        return f\"Error: {e.stderr}\"\n",
    "\n",
    "\n",
    "logging.basicConfig(level=logging.INFO, format=\"%(asctime)s - %(message)s\")\n",
    "# RPC endpoints\n",
    "\n",
    "CONTRACT_ADDRESS = contract.address\n",
    "\n",
    "ABI = get_vyper_abi()\n",
    "\n",
    "contract_w3 = w3.eth.contract(address=CONTRACT_ADDRESS, abi=ABI)\n",
    "account = w3.eth.account.from_key(deployer.key)\n",
    "\n",
    "\n",
    "def send_tx(func, acc, value=0):\n",
    "    tx = func.build_transaction(\n",
    "        {\n",
    "            \"from\": account.address,\n",
    "            \"nonce\": w3.eth.get_transaction_count(account.address),\n",
    "            \"value\": value,\n",
    "        }\n",
    "    )\n",
    "    tx[\"gas\"] = int(5 * w3.eth.estimate_gas(tx))\n",
    "    signed_tx = w3.eth.account.sign_transaction(tx, private_key=account.key)\n",
    "    tx_hash = w3.eth.send_raw_transaction(signed_tx.raw_transaction)\n",
    "    return tx_hash"
   ]
  },
  {
   "cell_type": "markdown",
   "id": "11",
   "metadata": {},
   "source": [
    "## Prepare delegate and config"
   ]
  },
  {
   "cell_type": "code",
   "execution_count": null,
   "id": "12",
   "metadata": {},
   "outputs": [],
   "source": [
    "# func = contract_w3.functions.set_lz_delegate(account.address)\n",
    "# tx_hash = send_tx(func, account)\n",
    "# logging.info(f\"Added self as delegate: {tx_hash.hex()}\")\n",
    "\n",
    "# send lib\n",
    "func = contract_w3.functions.set_lz_send_lib(LZ_EID, SEND_LIB)\n",
    "tx_hash1 = send_tx(func, account)\n",
    "print(f\"Added send lib: {tx_hash1.hex()}\")\n",
    "time.sleep(3)\n",
    "# receive lib\n",
    "func = contract_w3.functions.set_lz_receive_lib(LZ_EID, RECEIVE_LIB)\n",
    "tx_hash2 = send_tx(func, account)\n",
    "print(f\"Added receive lib: {tx_hash2.hex()}\")"
   ]
  },
  {
   "cell_type": "code",
   "execution_count": null,
   "id": "13",
   "metadata": {},
   "outputs": [],
   "source": [
    "from lzreadabi import lzreadlib_abi\n",
    "\n",
    "lzreadlib = w3.eth.contract(address=READ_LIB, abi=json.loads(lzreadlib_abi))\n",
    "\n",
    "print(f\"Read lib type: {lzreadlib.functions.messageLibType().call()}\")\n",
    "print(f\"Read lib version: {lzreadlib.functions.version().call()}\")\n",
    "eid_check = [4294967295, 4294967294]\n",
    "supported_eid = None\n",
    "for eid in eid_check:\n",
    "    support = lzreadlib.functions.isSupportedEid(eid).call()\n",
    "    print(f\"Supports {eid}: {support}\")\n",
    "    if support and not supported_eid:\n",
    "        supported_eid = eid\n",
    "## read lib\n",
    "read_channel = contract_w3.functions.LZ_READ_CHANNEL().call()\n",
    "if supported_eid and read_channel != supported_eid:\n",
    "    print(f\"Setting read channel to {supported_eid}\")\n",
    "    func = contract_w3.functions.set_lz_read_channel(supported_eid)\n",
    "    tx_hash = send_tx(func, account)\n",
    "    print(f\"Set read channel: {tx_hash.hex()}\")\n",
    "    time.sleep(3)\n",
    "# read direction\n",
    "read_channel = contract_w3.functions.LZ_READ_CHANNEL().call()\n",
    "print(f\"Read Channel: {read_channel}\")\n",
    "func = contract_w3.functions.set_lz_send_lib(read_channel, READ_LIB)\n",
    "tx_hash3 = send_tx(func, account)\n",
    "print(f\"Added read lib: {tx_hash3.hex()}\")\n",
    "time.sleep(3)\n",
    "# receive direction\n",
    "func = contract_w3.functions.set_lz_receive_lib(read_channel, READ_LIB)\n",
    "tx_hash4 = send_tx(func, account)\n",
    "print(f\"Added receive lib: {tx_hash4.hex()}\")"
   ]
  },
  {
   "cell_type": "markdown",
   "id": "14",
   "metadata": {},
   "source": [
    "## Set up DVNs"
   ]
  },
  {
   "cell_type": "code",
   "execution_count": null,
   "id": "15",
   "metadata": {},
   "outputs": [],
   "source": [
    "contract_w3.address"
   ]
  },
  {
   "cell_type": "markdown",
   "id": "16",
   "metadata": {},
   "source": [
    "## 1. LZ Send & Receive"
   ]
  },
  {
   "cell_type": "code",
   "execution_count": null,
   "id": "17",
   "metadata": {},
   "outputs": [],
   "source": [
    "# add self as peer\n",
    "\n",
    "func = contract_w3.functions.set_peer(LZ_EID, CONTRACT_ADDRESS)\n",
    "tx_hash = send_tx(func, account)\n",
    "logging.info(f\"Added self as peer tx: {tx_hash.hex()}\")"
   ]
  },
  {
   "cell_type": "code",
   "execution_count": null,
   "id": "18",
   "metadata": {},
   "outputs": [],
   "source": [
    "gas_limit = 500_000\n",
    "msg = \"170475436437825620930817601234267694881687829390282260281137596999800372275961\"\n",
    "\n",
    "fee = contract_w3.functions.quote_message_fee(\n",
    "    LZ_EID, CONTRACT_ADDRESS, msg, _gas_limit=gas_limit\n",
    ").call()\n",
    "logging.info(f\"Fee: {fee}\")\n",
    "\n",
    "func = contract_w3.functions.send_message(\n",
    "    _dst_eid=LZ_EID, _receiver=CONTRACT_ADDRESS, _message=msg, _gas_limit=gas_limit\n",
    ")\n",
    "tx_hash = send_tx(func, account, 3 * fee)\n",
    "logging.info(f\"Tx: {tx_hash.hex()}\")\n",
    "# after we sent the message we can check it on testnet.layerzeroscan.com (use address or txid)\n",
    "# shortly after, it should be pinged back (we send to ourselves, and event be fired)"
   ]
  },
  {
   "cell_type": "markdown",
   "id": "19",
   "metadata": {},
   "source": [
    "## 2. LzRead"
   ]
  },
  {
   "cell_type": "code",
   "execution_count": null,
   "id": "20",
   "metadata": {},
   "outputs": [],
   "source": [
    "# set self as read peer\n",
    "# LZ_READ_CHANNEL = 4294967294\n",
    "LZ_READ_CHANNEL = contract_w3.functions.LZ_READ_CHANNEL().call()\n",
    "func = contract_w3.functions.set_peer(LZ_READ_CHANNEL, CONTRACT_ADDRESS)\n",
    "tx_hash = send_tx(func, account)\n",
    "logging.info(f\"Set peer tx: {tx_hash.hex()}\")"
   ]
  },
  {
   "cell_type": "code",
   "execution_count": null,
   "id": "21",
   "metadata": {},
   "outputs": [],
   "source": [
    "# prepare reading calldata\n",
    "from vyper.utils import method_id\n",
    "\n",
    "method_str = \"dummy_endpoint(uint256)\"\n",
    "num = 12345\n",
    "calldata = method_id(method_str) + boa.util.abi.abi_encode(\"(uint256)\", (num,))\n",
    "\n",
    "# read the contract itself\n",
    "res = contract_w3.functions.dummy_endpoint(num).call()\n",
    "\n",
    "logging.info(f\"Read: {res}\")\n",
    "\n",
    "# now quote lzread fee\n",
    "fee = contract_w3.functions.quote_read_fee(\n",
    "    LZ_EID, CONTRACT_ADDRESS, calldata, _gas_limit=gas_limit\n",
    ").call()\n",
    "logging.info(f\"Fee: {fee}\")\n",
    "\n",
    "\n",
    "# now request read\n",
    "func = contract_w3.functions.request_read(LZ_EID, CONTRACT_ADDRESS, calldata, _gas_limit=gas_limit)\n",
    "tx_hash = send_tx(func, account, 3 * fee)\n",
    "logging.info(f\"Tx: {tx_hash.hex()}\")"
   ]
  },
  {
   "cell_type": "code",
   "execution_count": null,
   "id": "22",
   "metadata": {},
   "outputs": [],
   "source": [
    "# test calldata\n",
    "import requests\n",
    "\n",
    "print(calldata.hex())\n",
    "\n",
    "rpc_endpoint = \"https://sepolia.base.org\"\n",
    "# perform eth_call request to contract using calldata\n",
    "r = requests.post(\n",
    "    rpc_endpoint,\n",
    "    json={\n",
    "        \"jsonrpc\": \"2.0\",\n",
    "        \"method\": \"eth_call\",\n",
    "        \"params\": [{\"to\": CONTRACT_ADDRESS, \"data\": \"0x\" + calldata.hex()}, \"latest\"],\n",
    "        \"id\": 1,\n",
    "    },\n",
    ")\n",
    "response = r.json()[\"result\"]\n",
    "# print(r.json()['result'])\n",
    "print(response)\n",
    "contract_code = \"\"\"\n",
    "@external\n",
    "@view\n",
    "def message_as_string(_message: Bytes[128]) -> String[128]:\n",
    "    message: String[128] = convert(_message, String[128])\n",
    "    return message\n",
    "\"\"\"\n",
    "with boa.swap_env(boa.Env()):\n",
    "    tmp_contract = boa.loads(contract_code)\n",
    "\n",
    "    res = tmp_contract.message_as_string(bytes.fromhex(response[2:]))\n",
    "    print(res)"
   ]
  },
  {
   "cell_type": "code",
   "execution_count": null,
   "id": "23",
   "metadata": {},
   "outputs": [],
   "source": []
  }
 ],
 "metadata": {
  "kernelspec": {
   "display_name": ".venv",
   "language": "python",
   "name": "python3"
  },
  "language_info": {
   "codemirror_mode": {
    "name": "ipython",
    "version": 3
   },
   "file_extension": ".py",
   "mimetype": "text/x-python",
   "name": "python",
   "nbconvert_exporter": "python",
   "pygments_lexer": "ipython3",
   "version": "3.12.6"
  }
 },
 "nbformat": 4,
 "nbformat_minor": 5
}
