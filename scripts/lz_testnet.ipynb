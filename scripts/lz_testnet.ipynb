{
 "cells": [
  {
   "cell_type": "markdown",
   "id": "0",
   "metadata": {},
   "source": [
    "## Setup"
   ]
  },
  {
   "cell_type": "code",
   "execution_count": null,
   "id": "1",
   "metadata": {},
   "outputs": [],
   "source": [
    "import os\n",
    "\n",
    "# importing scripting dependencies\n",
    "import boa\n",
    "from eth_account import Account"
   ]
  },
  {
   "cell_type": "code",
   "execution_count": null,
   "id": "2",
   "metadata": {},
   "outputs": [],
   "source": [
    "from dotenv import load_dotenv\n",
    "\n",
    "load_dotenv()\n",
    "PRIVATE_KEY = os.environ.get(\"WEB3_TESTNET_PK\")\n",
    "# RPC_URL = \"https://sepolia.optimism.io\"\n",
    "RPC_URL = \"https://sepolia.base.org\"\n",
    "# RPC_URL = \"https://mainnet.optimism.io\""
   ]
  },
  {
   "cell_type": "markdown",
   "id": "3",
   "metadata": {},
   "source": [
    "## Select mode\n",
    "Production mode cell is intentionally executed first to avoid deploying things by accident. If one runs all the cells sequentially things will be executed in forking mode.\n",
    "\n",
    "To deploy in production mode, manually skip the execution of the fork mode cell."
   ]
  },
  {
   "cell_type": "code",
   "execution_count": null,
   "id": "4",
   "metadata": {},
   "outputs": [],
   "source": [
    "# production mode (to deploy on ethereum)\n",
    "deployer = Account.from_key(PRIVATE_KEY)\n",
    "eth_env = boa.set_network_env(RPC_URL)\n",
    "# boa.set_env(eth_env)\n",
    "\n",
    "# this automatically sets the eoa as the deployer\n",
    "boa.env.add_account(deployer)\n",
    "print(f\"Deploying with {deployer.address}\")"
   ]
  },
  {
   "cell_type": "markdown",
   "id": "5",
   "metadata": {},
   "source": [
    "# I. Deployment"
   ]
  },
  {
   "cell_type": "markdown",
   "id": "6",
   "metadata": {},
   "source": [
    "### 2. LZContract"
   ]
  },
  {
   "cell_type": "code",
   "execution_count": null,
   "id": "7",
   "metadata": {},
   "outputs": [],
   "source": [
    "# II. Then deploy the DepositLimitModule\n",
    "contract_deployer = boa.load_partial(\"../contracts/ExampleMessenger.vy\")\n",
    "LZ_ENDPOINT_BASE_SEPOLIA = \"0x6EDCE65403992e310A62460808c4b910D972f10f\"\n",
    "LZ_ENDPOINT_ID = 40245\n",
    "\n",
    "contract = contract_deployer(\n",
    "    LZ_ENDPOINT_BASE_SEPOLIA,  # endpoint on sepolia base\n",
    "    500_000,  # default gas limit\n",
    ")\n",
    "\n",
    "print(f\"Example Messenger deployed at {contract.address}\")"
   ]
  },
  {
   "cell_type": "markdown",
   "id": "8",
   "metadata": {},
   "source": [
    "# II. Post-deployment interactions"
   ]
  },
  {
   "cell_type": "code",
   "execution_count": null,
   "id": "9",
   "metadata": {},
   "outputs": [],
   "source": [
    "from web3 import Web3\n",
    "import os\n",
    "import logging\n",
    "import subprocess\n",
    "import time\n",
    "\n",
    "LZ_ENDPOINT_ID = 40245\n",
    "LZ_CHAIN_ID = 84532\n",
    "\n",
    "\n",
    "def get_vyper_abi():\n",
    "    command = [\"vyper\", \"../contracts/ExampleMessenger.vy\", \"-f\", \"abi_python\"]\n",
    "    try:\n",
    "        result = subprocess.run(command, capture_output=True, text=True, check=True)\n",
    "        return result.stdout\n",
    "    except subprocess.CalledProcessError as e:\n",
    "        return f\"Error: {e.stderr}\"\n",
    "\n",
    "\n",
    "logging.basicConfig(level=logging.INFO, format=\"%(asctime)s - %(message)s\")\n",
    "# RPC endpoints\n",
    "\n",
    "CONTRACT_ADDRESS = contract.address\n",
    "\n",
    "try:\n",
    "    pk = os.environ[\"WEB3_TESTNET_PK\"]\n",
    "except KeyError:\n",
    "    raise EnvironmentError(\"Please set WEB3_TESTNET_PK environment variable\")\n",
    "# execute vyper contracts/LZContract.vy -f abi_python in cli and get the output\n",
    "ABI = get_vyper_abi()\n",
    "\n",
    "w3 = Web3(Web3.HTTPProvider(\"https://sepolia.base.org\"))\n",
    "contract_w3 = w3.eth.contract(address=CONTRACT_ADDRESS, abi=ABI)\n",
    "account = w3.eth.account.from_key(pk)\n",
    "gas_limit = 500_000\n",
    "msg = \"170475436437825620930817601234267694881687829390282260281137596999800372275961\"\n",
    "\n",
    "fee = contract_w3.functions.quote_lz_fee(\n",
    "    LZ_ENDPOINT_ID, CONTRACT_ADDRESS, msg.encode(), _gas_limit=gas_limit\n",
    ").call()\n",
    "logging.info(f\"Fee: {fee}\")\n",
    "\n",
    "func = contract_w3.functions.set_peer(LZ_ENDPOINT_ID, CONTRACT_ADDRESS)\n",
    "tx = func.build_transaction(\n",
    "    {\"from\": account.address, \"nonce\": w3.eth.get_transaction_count(account.address)}\n",
    ")\n",
    "tx[\"gas\"] = int(5 * w3.eth.estimate_gas(tx))\n",
    "signed_tx = w3.eth.account.sign_transaction(tx, private_key=account.key)\n",
    "tx_hash = w3.eth.send_raw_transaction(signed_tx.raw_transaction)\n",
    "logging.info(f\"Tx: {tx_hash.hex()}\")\n",
    "\n",
    "time.sleep(5)\n",
    "\n",
    "func = contract_w3.functions.send_message(\n",
    "    _dst_eid=LZ_ENDPOINT_ID, _receiver=CONTRACT_ADDRESS, _message=msg, _gas_limit=5 * gas_limit\n",
    ")\n",
    "tx = func.build_transaction(\n",
    "    {\n",
    "        \"from\": account.address,\n",
    "        \"nonce\": w3.eth.get_transaction_count(account.address),\n",
    "        \"value\": 10 * fee,\n",
    "    }\n",
    ")\n",
    "tx[\"gas\"] = int(5 * w3.eth.estimate_gas(tx))\n",
    "signed_tx = w3.eth.account.sign_transaction(tx, private_key=account.key)\n",
    "tx_hash = w3.eth.send_raw_transaction(signed_tx.raw_transaction)\n",
    "logging.info(f\"Tx: {tx_hash.hex()}\")"
   ]
  },
  {
   "cell_type": "code",
   "execution_count": null,
   "id": "10",
   "metadata": {},
   "outputs": [],
   "source": []
  }
 ],
 "metadata": {
  "kernelspec": {
   "display_name": ".venv",
   "language": "python",
   "name": "python3"
  },
  "language_info": {
   "codemirror_mode": {
    "name": "ipython",
    "version": 3
   },
   "file_extension": ".py",
   "mimetype": "text/x-python",
   "name": "python",
   "nbconvert_exporter": "python",
   "pygments_lexer": "ipython3",
   "version": "3.12.6"
  }
 },
 "nbformat": 4,
 "nbformat_minor": 5
}
