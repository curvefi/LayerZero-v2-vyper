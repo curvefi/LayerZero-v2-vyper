{
 "cells": [
  {
   "cell_type": "markdown",
   "id": "0",
   "metadata": {},
   "source": [
    "## Setup"
   ]
  },
  {
   "cell_type": "code",
   "execution_count": null,
   "id": "1",
   "metadata": {},
   "outputs": [],
   "source": [
    "from dotenv import load_dotenv\n",
    "import os\n",
    "import boa\n",
    "from eth_account import Account\n",
    "\n",
    "load_dotenv()\n",
    "PRIVATE_KEY = os.environ.get(\"WEB3_TESTNET_PK\")\n",
    "# RPC_URL = \"https://sepolia.optimism.io\"\n",
    "RPC_URL = \"https://sepolia.base.org\"\n",
    "# RPC_URL = \"https://mainnet.optimism.io\"\n",
    "deployer = Account.from_key(PRIVATE_KEY)\n",
    "eth_env = boa.set_network_env(RPC_URL)\n",
    "# boa.set_env(eth_env)\n",
    "\n",
    "# this automatically sets the eoa as the deployer\n",
    "boa.env.add_account(deployer)\n",
    "print(f\"Deploying with {deployer.address} on Chain id {boa.env.evm.patch.chain_id}\")"
   ]
  },
  {
   "cell_type": "markdown",
   "id": "2",
   "metadata": {},
   "source": [
    "# I. Deployment"
   ]
  },
  {
   "cell_type": "markdown",
   "id": "3",
   "metadata": {},
   "source": [
    "### 1. ExampleMessenger"
   ]
  },
  {
   "cell_type": "code",
   "execution_count": null,
   "id": "4",
   "metadata": {},
   "outputs": [],
   "source": [
    "# II. Then deploy the DepositLimitModule\n",
    "contract_deployer = boa.load_partial(\"../contracts/ExampleMessenger.vy\")\n",
    "LZ_ENDPOINT_BASE_SEPOLIA = \"0x6EDCE65403992e310A62460808c4b910D972f10f\"\n",
    "LZ_ENDPOINT_ID = 40245\n",
    "\n",
    "contract = contract_deployer(\n",
    "    LZ_ENDPOINT_BASE_SEPOLIA,  # endpoint on sepolia base\n",
    "    500_000,  # default gas limit\n",
    ")\n",
    "\n",
    "print(f\"Example Messenger deployed at {contract.address}\")"
   ]
  },
  {
   "cell_type": "markdown",
   "id": "5",
   "metadata": {},
   "source": [
    "## II. Post-deployment interactions \n",
    "## (web3py to simulate real interactions)"
   ]
  },
  {
   "cell_type": "markdown",
   "id": "6",
   "metadata": {},
   "source": [
    "### 0. Prepare infra"
   ]
  },
  {
   "cell_type": "code",
   "execution_count": null,
   "id": "7",
   "metadata": {},
   "outputs": [],
   "source": [
    "from web3 import Web3\n",
    "import os\n",
    "import logging\n",
    "import subprocess\n",
    "\n",
    "LZ_ENDPOINT_ID = 40245\n",
    "LZ_CHAIN_ID = 84532\n",
    "\n",
    "\n",
    "def get_vyper_abi():\n",
    "    command = [\"vyper\", \"../contracts/ExampleMessenger.vy\", \"-f\", \"abi_python\"]\n",
    "    try:\n",
    "        result = subprocess.run(command, capture_output=True, text=True, check=True)\n",
    "        return result.stdout\n",
    "    except subprocess.CalledProcessError as e:\n",
    "        return f\"Error: {e.stderr}\"\n",
    "\n",
    "\n",
    "logging.basicConfig(level=logging.INFO, format=\"%(asctime)s - %(message)s\")\n",
    "# RPC endpoints\n",
    "\n",
    "CONTRACT_ADDRESS = contract.address\n",
    "\n",
    "try:\n",
    "    pk = os.environ[\"WEB3_TESTNET_PK\"]\n",
    "except KeyError:\n",
    "    raise EnvironmentError(\"Please set WEB3_TESTNET_PK environment variable\")\n",
    "# execute vyper contracts/LZContract.vy -f abi_python in cli and get the output\n",
    "ABI = get_vyper_abi()\n",
    "\n",
    "w3 = Web3(Web3.HTTPProvider(\"https://sepolia.base.org\"))\n",
    "contract_w3 = w3.eth.contract(address=CONTRACT_ADDRESS, abi=ABI)\n",
    "account = w3.eth.account.from_key(pk)\n",
    "\n",
    "\n",
    "def send_tx(func, acc, value=0):\n",
    "    tx = func.build_transaction(\n",
    "        {\n",
    "            \"from\": account.address,\n",
    "            \"nonce\": w3.eth.get_transaction_count(account.address),\n",
    "            \"value\": value,\n",
    "        }\n",
    "    )\n",
    "    tx[\"gas\"] = int(5 * w3.eth.estimate_gas(tx))\n",
    "    signed_tx = w3.eth.account.sign_transaction(tx, private_key=account.key)\n",
    "    tx_hash = w3.eth.send_raw_transaction(signed_tx.raw_transaction)\n",
    "    return tx_hash"
   ]
  },
  {
   "cell_type": "markdown",
   "id": "8",
   "metadata": {},
   "source": [
    "## Prepare delegate and config"
   ]
  },
  {
   "cell_type": "code",
   "execution_count": null,
   "id": "9",
   "metadata": {},
   "outputs": [],
   "source": [
    "# func = contract_w3.functions.set_lz_delegate(account.address)\n",
    "# tx_hash = send_tx(func, account)\n",
    "# logging.info(f\"Added self as delegate: {tx_hash.hex()}\")\n",
    "\n",
    "SEND_LIB = \"0xC1868e054425D378095A003EcbA3823a5D0135C9\"\n",
    "RECEIVE_LIB = \"0x12523de19dc41c91F7d2093E0CFbB76b17012C8d\"\n",
    "READ_LIB = \"0x29270F0CFC54432181C853Cd25E2Fb60A68E03f2\"\n",
    "\n",
    "# lib addresses for base sepolia\n",
    "# send lib\n",
    "func = contract_w3.functions.set_lz_send_lib(LZ_ENDPOINT_ID, SEND_LIB)\n",
    "tx_hash1 = send_tx(func, account)\n",
    "# # receive lib\n",
    "# func = contract_w3.functions.set_lz_receive_lib(LZ_ENDPOINT_ID, RECEIVE_LIB)\n",
    "# tx_hash2 = send_tx(func, account)\n",
    "# # read lib\n",
    "# func = contract_w3.functions.set_lz_send_lib(contract_w3.functions.LZ_READ_CHANNEL().call(), READ_LIB)\n",
    "# tx_hash3 = send_tx(func, account)\n",
    "# for tx in [tx_hash1, tx_hash2, tx_hash3]:\n",
    "#     print(f\"Added lib: {tx.hex()}\")"
   ]
  },
  {
   "cell_type": "code",
   "execution_count": null,
   "id": "10",
   "metadata": {},
   "outputs": [],
   "source": []
  },
  {
   "cell_type": "markdown",
   "id": "11",
   "metadata": {},
   "source": [
    "## 1. LZ Send & Receive"
   ]
  },
  {
   "cell_type": "code",
   "execution_count": null,
   "id": "12",
   "metadata": {},
   "outputs": [],
   "source": [
    "# add self as peer\n",
    "\n",
    "func = contract_w3.functions.set_peer(LZ_ENDPOINT_ID, CONTRACT_ADDRESS)\n",
    "tx_hash = send_tx(func, account)\n",
    "logging.info(f\"Added self as peer tx: {tx_hash.hex()}\")"
   ]
  },
  {
   "cell_type": "code",
   "execution_count": null,
   "id": "13",
   "metadata": {},
   "outputs": [],
   "source": [
    "gas_limit = 500_000\n",
    "msg = \"170475436437825620930817601234267694881687829390282260281137596999800372275961\"\n",
    "\n",
    "fee = contract_w3.functions.quote_message_fee(\n",
    "    LZ_ENDPOINT_ID, CONTRACT_ADDRESS, msg, _gas_limit=gas_limit\n",
    ").call()\n",
    "logging.info(f\"Fee: {fee}\")\n",
    "\n",
    "func = contract_w3.functions.send_message(\n",
    "    _dst_eid=LZ_ENDPOINT_ID, _receiver=CONTRACT_ADDRESS, _message=msg, _gas_limit=gas_limit\n",
    ")\n",
    "tx_hash = send_tx(func, account, 3 * fee)\n",
    "logging.info(f\"Tx: {tx_hash.hex()}\")\n",
    "# after we sent the message we can check it on testnet.layerzeroscan.com (use address or txid)\n",
    "# shortly after, it should be pinged back (we send to ourselves, and event be fired)"
   ]
  },
  {
   "cell_type": "markdown",
   "id": "14",
   "metadata": {},
   "source": [
    "## 2. LzRead"
   ]
  },
  {
   "cell_type": "code",
   "execution_count": null,
   "id": "15",
   "metadata": {},
   "outputs": [],
   "source": [
    "# set self as read peer\n",
    "# LZ_READ_CHANNEL = 4294967294\n",
    "LZ_READ_CHANNEL = contract_w3.functions.LZ_READ_CHANNEL().call()\n",
    "func = contract_w3.functions.set_peer(LZ_READ_CHANNEL, CONTRACT_ADDRESS)\n",
    "tx_hash = send_tx(func, account)\n",
    "logging.info(f\"Set peer tx: {tx_hash.hex()}\")"
   ]
  },
  {
   "cell_type": "code",
   "execution_count": null,
   "id": "16",
   "metadata": {},
   "outputs": [],
   "source": [
    "# prepare reading calldata\n",
    "from vyper.utils import method_id\n",
    "\n",
    "method_str = \"dummy_endpoint(uint256)\"\n",
    "num = 12345\n",
    "calldata = method_id(method_str) + boa.util.abi.abi_encode(\"(uint256)\", (num,))\n",
    "\n",
    "# read the contract itself\n",
    "res = contract_w3.functions.dummy_endpoint(num).call()\n",
    "\n",
    "logging.info(f\"Read: {res}\")\n",
    "\n",
    "# now quote lzread fee\n",
    "fee = contract_w3.functions.quote_read_fee(\n",
    "    LZ_ENDPOINT_ID, CONTRACT_ADDRESS, calldata, _gas_limit=gas_limit\n",
    ").call()\n",
    "logging.info(f\"Fee: {fee}\")\n",
    "\n",
    "\n",
    "# now request read\n",
    "func = contract_w3.functions.request_read(\n",
    "    LZ_ENDPOINT_ID, CONTRACT_ADDRESS, calldata, _gas_limit=gas_limit\n",
    ")\n",
    "\n",
    "tx = func.build_transaction(\n",
    "    {\n",
    "        \"from\": account.address,\n",
    "        \"nonce\": w3.eth.get_transaction_count(account.address),\n",
    "        \"value\": int(fee * 3),\n",
    "    }\n",
    ")\n",
    "tx[\"gas\"] = int(10 * w3.eth.estimate_gas(tx))\n",
    "signed_tx = w3.eth.account.sign_transaction(tx, private_key=account.key)\n",
    "tx_hash = w3.eth.send_raw_transaction(signed_tx.raw_transaction)\n",
    "logging.info(f\"Tx: {tx_hash.hex()}\")"
   ]
  },
  {
   "cell_type": "code",
   "execution_count": null,
   "id": "17",
   "metadata": {},
   "outputs": [],
   "source": [
    "# test calldata\n",
    "import requests\n",
    "\n",
    "print(calldata.hex())\n",
    "\n",
    "rpc_endpoint = \"https://sepolia.base.org\"\n",
    "# perfor eth_call request to contract using calldata\n",
    "r = requests.post(\n",
    "    rpc_endpoint,\n",
    "    json={\n",
    "        \"jsonrpc\": \"2.0\",\n",
    "        \"method\": \"eth_call\",\n",
    "        \"params\": [{\"to\": CONTRACT_ADDRESS, \"data\": \"0x\" + calldata.hex()}, \"latest\"],\n",
    "        \"id\": 1,\n",
    "    },\n",
    ")\n",
    "response = r.json()[\"result\"]\n",
    "# print(r.json()['result'])\n",
    "print(response)\n",
    "contract_code = \"\"\"\n",
    "@external\n",
    "@view\n",
    "def message_as_string(_message: Bytes[128]) -> String[128]:\n",
    "    message: String[128] = convert(_message, String[128])\n",
    "    return message\n",
    "\"\"\"\n",
    "with boa.swap_env(boa.Env()):\n",
    "    tmp_contract = boa.loads(contract_code)\n",
    "\n",
    "    res = tmp_contract.message_as_string(bytes.fromhex(response[2:]))\n",
    "    print(res)"
   ]
  }
 ],
 "metadata": {
  "kernelspec": {
   "display_name": ".venv",
   "language": "python",
   "name": "python3"
  },
  "language_info": {
   "codemirror_mode": {
    "name": "ipython",
    "version": 3
   },
   "file_extension": ".py",
   "mimetype": "text/x-python",
   "name": "python",
   "nbconvert_exporter": "python",
   "pygments_lexer": "ipython3",
   "version": "3.12.6"
  }
 },
 "nbformat": 4,
 "nbformat_minor": 5
}
